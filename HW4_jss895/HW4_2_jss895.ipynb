{
 "cells": [
  {
   "cell_type": "markdown",
   "metadata": {},
   "source": [
    "# Assignment 2"
   ]
  },
  {
   "cell_type": "markdown",
   "metadata": {},
   "source": [
    "| **Statistical Analyses\t|  IV(s)  |  IV type(s) |  DV(s)  |  DV type(s)  |  Control Var | Control Var type  | Question to be answered | _H0_ | alpha | link to paper **| \n",
    "|:----------:|:----------|:------------|:-------------|:-------------|:------------|:------------- |:------------------|:----:|:-------:|:-------|\n",
    "|ANOVA\t| Level achieved during the 2014/2015 season (Professional, Semiprofessional or Not-Professional) | ordinal |Player test results during the 2004 -2006 period (Players under 12). The tests included Sprint speed, Agility, Dribbling, Ball control and Shooting) | continuous | Players weight and height relative to age. (When they were 12) | continuous | \tIs a player's success in soccer signifficantly explained by his skills in pre-adolescence | Professional players pre adolescent skills = Semiprofessional players pre adolescent skills = non-professional players pre adolescent skills | 0.05 | http://journals.plos.org/plosone/article?id=10.1371/journal.pone.0182211 |\n",
    "  |Multiple Regression|Death Rate|Continuous|Body Shape Index (ABSI), Diabetes, Blood Pressure, Smoking, Serum Cholesterol, Sex, Age, Ethnicity|Continuous and binary variables|Body Mass Index (BMI) |Continuous|Is the Body Shape Index (ABSI) better for predicting premature death than the Body Mass Index (BMI)?|The difference between the actual amount of deaths and the prediction using ABSI = the difference between the amount of real deaths and those predicted using BMI |0.05|http://journals.plos.org/plosone/article?id=10.1371/journal.pone.0039504|\n",
    "  |Logistic Regression|Critical level of scalar stress, where the presence of colony fissioning is considered expression of not critical vs. critical level| Binary, where (1 = above the level, 0 = below the level)|Community size (as number of members in the community)|Categorical (could be seen as continuous)|Not identified|Not identified|Does the population amount of a community signifficantly affects the probabilty of having higher levels of scalar stress?|for every population level Pi the probablity of having a Critical Stress Level is the same|0.05|http://journals.plos.org/plosone/article?id=10.1371/journal.pone.0091510|"
   ]
  },
  {
   "cell_type": "code",
   "execution_count": null,
   "metadata": {
    "collapsed": true
   },
   "outputs": [],
   "source": []
  }
 ],
 "metadata": {
  "kernelspec": {
   "display_name": "PUI2016_Python2",
   "language": "python",
   "name": "pui2016_python2"
  },
  "language_info": {
   "codemirror_mode": {
    "name": "ipython",
    "version": 2
   },
   "file_extension": ".py",
   "mimetype": "text/x-python",
   "name": "python",
   "nbconvert_exporter": "python",
   "pygments_lexer": "ipython2",
   "version": "2.7.12"
  }
 },
 "nbformat": 4,
 "nbformat_minor": 0
}
