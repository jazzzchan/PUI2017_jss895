{
 "cells": [
  {
   "cell_type": "code",
   "execution_count": 2,
   "metadata": {
    "collapsed": true
   },
   "outputs": [],
   "source": [
    "from __future__ import division, print_function\n",
    "import numpy as np\n",
    "import pylab as pl\n",
    "\n",
    "from pandas import Series, DataFrame\n",
    "import pandas as pd\n",
    "\n",
    "import datetime\n",
    "from datetime import datetime\n",
    "import matplotlib.dates as mdates\n",
    "\n",
    "import sys\n",
    "import os\n",
    "\n"
   ]
  },
  {
   "cell_type": "code",
   "execution_count": 3,
   "metadata": {
    "collapsed": false
   },
   "outputs": [
    {
     "data": {
      "text/plain": [
       "'/gws/open/NYCOpenData/nycopendata/data'"
      ]
     },
     "execution_count": 3,
     "metadata": {},
     "output_type": "execute_result"
    }
   ],
   "source": [
    "os.getenv('DFDATA')"
   ]
  },
  {
   "cell_type": "code",
   "execution_count": 4,
   "metadata": {
    "collapsed": false
   },
   "outputs": [
    {
     "name": "stderr",
     "output_type": "stream",
     "text": [
      "/opt/rh/anaconda/root/envs/PUI2016_Python2/lib/python2.7/site-packages/IPython/core/interactiveshell.py:2717: DtypeWarning: Columns (14,17) have mixed types. Specify dtype option on import or set low_memory=False.\n",
      "  interactivity=interactivity, compiler=compiler, result=result)\n"
     ]
    },
    {
     "data": {
      "text/html": [
       "<div>\n",
       "<table border=\"1\" class=\"dataframe\">\n",
       "  <thead>\n",
       "    <tr style=\"text-align: right;\">\n",
       "      <th></th>\n",
       "      <th>HWOID</th>\n",
       "      <th>HWONumber</th>\n",
       "      <th>BuildingID</th>\n",
       "      <th>BoroID</th>\n",
       "      <th>Boro</th>\n",
       "      <th>HouseNumber</th>\n",
       "      <th>StreetName</th>\n",
       "      <th>Zip</th>\n",
       "      <th>Block</th>\n",
       "      <th>Lot</th>\n",
       "      <th>...</th>\n",
       "      <th>IsAEP</th>\n",
       "      <th>IsCommercialDemolition</th>\n",
       "      <th>FEMAEventID</th>\n",
       "      <th>FEMAEvent</th>\n",
       "      <th>HWODescription</th>\n",
       "      <th>HWOApprovedAmount</th>\n",
       "      <th>SalesTax</th>\n",
       "      <th>AdminFee</th>\n",
       "      <th>ChargeAmount</th>\n",
       "      <th>DateTransferDoF</th>\n",
       "    </tr>\n",
       "  </thead>\n",
       "  <tbody>\n",
       "    <tr>\n",
       "      <th>0</th>\n",
       "      <td>244</td>\n",
       "      <td>E000270</td>\n",
       "      <td>373691</td>\n",
       "      <td>3</td>\n",
       "      <td>BROOKLYN</td>\n",
       "      <td>1359</td>\n",
       "      <td>ST JOHNS PLACE</td>\n",
       "      <td>11213.0</td>\n",
       "      <td>1378</td>\n",
       "      <td>7501</td>\n",
       "      <td>...</td>\n",
       "      <td>NaN</td>\n",
       "      <td>NaN</td>\n",
       "      <td>NaN</td>\n",
       "      <td>NaN</td>\n",
       "      <td>demo 20 sqft.of ceiling. replace 20 sqft of ce...</td>\n",
       "      <td>218.58</td>\n",
       "      <td>18.03</td>\n",
       "      <td>32.79</td>\n",
       "      <td>269.40</td>\n",
       "      <td>04/19/2000 12:00:00 AM</td>\n",
       "    </tr>\n",
       "    <tr>\n",
       "      <th>1</th>\n",
       "      <td>246</td>\n",
       "      <td>E000273</td>\n",
       "      <td>312369</td>\n",
       "      <td>3</td>\n",
       "      <td>BROOKLYN</td>\n",
       "      <td>475</td>\n",
       "      <td>HICKS STREET</td>\n",
       "      <td>11231.0</td>\n",
       "      <td>321</td>\n",
       "      <td>27</td>\n",
       "      <td>...</td>\n",
       "      <td>NaN</td>\n",
       "      <td>NaN</td>\n",
       "      <td>NaN</td>\n",
       "      <td>NaN</td>\n",
       "      <td>demo hallwy wall remove broken riser.install n...</td>\n",
       "      <td>698.85</td>\n",
       "      <td>57.66</td>\n",
       "      <td>75.00</td>\n",
       "      <td>831.51</td>\n",
       "      <td>05/18/2000 12:00:00 AM</td>\n",
       "    </tr>\n",
       "    <tr>\n",
       "      <th>2</th>\n",
       "      <td>247</td>\n",
       "      <td>E000274</td>\n",
       "      <td>322226</td>\n",
       "      <td>3</td>\n",
       "      <td>BROOKLYN</td>\n",
       "      <td>511</td>\n",
       "      <td>LAFAYETTE AVENUE</td>\n",
       "      <td>11205.0</td>\n",
       "      <td>1783</td>\n",
       "      <td>93</td>\n",
       "      <td>...</td>\n",
       "      <td>NaN</td>\n",
       "      <td>NaN</td>\n",
       "      <td>NaN</td>\n",
       "      <td>NaN</td>\n",
       "      <td>install (1) window guard, 2nd story p/h.</td>\n",
       "      <td>45.27</td>\n",
       "      <td>3.73</td>\n",
       "      <td>15.00</td>\n",
       "      <td>64.00</td>\n",
       "      <td>05/18/2000 12:00:00 AM</td>\n",
       "    </tr>\n",
       "    <tr>\n",
       "      <th>3</th>\n",
       "      <td>250</td>\n",
       "      <td>E000277</td>\n",
       "      <td>250417</td>\n",
       "      <td>3</td>\n",
       "      <td>BROOKLYN</td>\n",
       "      <td>531</td>\n",
       "      <td>EAST 22 STREET</td>\n",
       "      <td>11226.0</td>\n",
       "      <td>5208</td>\n",
       "      <td>46</td>\n",
       "      <td>...</td>\n",
       "      <td>NaN</td>\n",
       "      <td>NaN</td>\n",
       "      <td>NaN</td>\n",
       "      <td>NaN</td>\n",
       "      <td>l/r install window stop. kit.install window st...</td>\n",
       "      <td>110.59</td>\n",
       "      <td>9.12</td>\n",
       "      <td>16.59</td>\n",
       "      <td>136.30</td>\n",
       "      <td>05/18/2000 12:00:00 AM</td>\n",
       "    </tr>\n",
       "    <tr>\n",
       "      <th>4</th>\n",
       "      <td>254</td>\n",
       "      <td>E000284</td>\n",
       "      <td>292220</td>\n",
       "      <td>3</td>\n",
       "      <td>BROOKLYN</td>\n",
       "      <td>1337</td>\n",
       "      <td>FLATBUSH AVENUE</td>\n",
       "      <td>11226.0</td>\n",
       "      <td>5211</td>\n",
       "      <td>63</td>\n",
       "      <td>...</td>\n",
       "      <td>NaN</td>\n",
       "      <td>NaN</td>\n",
       "      <td>NaN</td>\n",
       "      <td>NaN</td>\n",
       "      <td>free stuck scuttle cover.</td>\n",
       "      <td>135.20</td>\n",
       "      <td>11.15</td>\n",
       "      <td>20.28</td>\n",
       "      <td>166.63</td>\n",
       "      <td>05/18/2000 12:00:00 AM</td>\n",
       "    </tr>\n",
       "  </tbody>\n",
       "</table>\n",
       "<p>5 rows × 24 columns</p>\n",
       "</div>"
      ],
      "text/plain": [
       "   HWOID HWONumber  BuildingID  BoroID      Boro HouseNumber  \\\n",
       "0    244   E000270      373691       3  BROOKLYN        1359   \n",
       "1    246   E000273      312369       3  BROOKLYN         475   \n",
       "2    247   E000274      322226       3  BROOKLYN         511   \n",
       "3    250   E000277      250417       3  BROOKLYN         531   \n",
       "4    254   E000284      292220       3  BROOKLYN        1337   \n",
       "\n",
       "         StreetName      Zip  Block   Lot           ...           IsAEP  \\\n",
       "0    ST JOHNS PLACE  11213.0   1378  7501           ...             NaN   \n",
       "1      HICKS STREET  11231.0    321    27           ...             NaN   \n",
       "2  LAFAYETTE AVENUE  11205.0   1783    93           ...             NaN   \n",
       "3    EAST 22 STREET  11226.0   5208    46           ...             NaN   \n",
       "4   FLATBUSH AVENUE  11226.0   5211    63           ...             NaN   \n",
       "\n",
       "  IsCommercialDemolition FEMAEventID FEMAEvent  \\\n",
       "0                    NaN         NaN       NaN   \n",
       "1                    NaN         NaN       NaN   \n",
       "2                    NaN         NaN       NaN   \n",
       "3                    NaN         NaN       NaN   \n",
       "4                    NaN         NaN       NaN   \n",
       "\n",
       "                                      HWODescription  HWOApprovedAmount  \\\n",
       "0  demo 20 sqft.of ceiling. replace 20 sqft of ce...             218.58   \n",
       "1  demo hallwy wall remove broken riser.install n...             698.85   \n",
       "2           install (1) window guard, 2nd story p/h.              45.27   \n",
       "3  l/r install window stop. kit.install window st...             110.59   \n",
       "4                          free stuck scuttle cover.             135.20   \n",
       "\n",
       "   SalesTax AdminFee ChargeAmount         DateTransferDoF  \n",
       "0     18.03    32.79       269.40  04/19/2000 12:00:00 AM  \n",
       "1     57.66    75.00       831.51  05/18/2000 12:00:00 AM  \n",
       "2      3.73    15.00        64.00  05/18/2000 12:00:00 AM  \n",
       "3      9.12    16.59       136.30  05/18/2000 12:00:00 AM  \n",
       "4     11.15    20.28       166.63  05/18/2000 12:00:00 AM  \n",
       "\n",
       "[5 rows x 24 columns]"
      ]
     },
     "execution_count": 4,
     "metadata": {},
     "output_type": "execute_result"
    }
   ],
   "source": [
    "dataset=os.getenv('DFDATA')+\"/sbnd-xujn/1414944572/sbnd-xujn\"\n",
    "\n",
    "df = pd.read_csv(dataset)\n",
    "\n",
    "df.head()"
   ]
  },
  {
   "cell_type": "code",
   "execution_count": 5,
   "metadata": {
    "collapsed": false
   },
   "outputs": [
    {
     "data": {
      "text/html": [
       "<div>\n",
       "<table border=\"1\" class=\"dataframe\">\n",
       "  <thead>\n",
       "    <tr style=\"text-align: right;\">\n",
       "      <th></th>\n",
       "      <th>DateTransferDoF</th>\n",
       "      <th>SalesTax</th>\n",
       "    </tr>\n",
       "  </thead>\n",
       "  <tbody>\n",
       "    <tr>\n",
       "      <th>0</th>\n",
       "      <td>04/19/2000 12:00:00 AM</td>\n",
       "      <td>18.03</td>\n",
       "    </tr>\n",
       "    <tr>\n",
       "      <th>1</th>\n",
       "      <td>05/18/2000 12:00:00 AM</td>\n",
       "      <td>57.66</td>\n",
       "    </tr>\n",
       "    <tr>\n",
       "      <th>2</th>\n",
       "      <td>05/18/2000 12:00:00 AM</td>\n",
       "      <td>3.73</td>\n",
       "    </tr>\n",
       "    <tr>\n",
       "      <th>3</th>\n",
       "      <td>05/18/2000 12:00:00 AM</td>\n",
       "      <td>9.12</td>\n",
       "    </tr>\n",
       "    <tr>\n",
       "      <th>4</th>\n",
       "      <td>05/18/2000 12:00:00 AM</td>\n",
       "      <td>11.15</td>\n",
       "    </tr>\n",
       "  </tbody>\n",
       "</table>\n",
       "</div>"
      ],
      "text/plain": [
       "          DateTransferDoF  SalesTax\n",
       "0  04/19/2000 12:00:00 AM     18.03\n",
       "1  05/18/2000 12:00:00 AM     57.66\n",
       "2  05/18/2000 12:00:00 AM      3.73\n",
       "3  05/18/2000 12:00:00 AM      9.12\n",
       "4  05/18/2000 12:00:00 AM     11.15"
      ]
     },
     "execution_count": 5,
     "metadata": {},
     "output_type": "execute_result"
    }
   ],
   "source": [
    "df1 = df[[ 'DateTransferDoF',\"SalesTax\"]]\n",
    "\n",
    "df1.head()"
   ]
  },
  {
   "cell_type": "code",
   "execution_count": 6,
   "metadata": {
    "collapsed": false
   },
   "outputs": [
    {
     "data": {
      "text/plain": [
       "dtype('O')"
      ]
     },
     "execution_count": 6,
     "metadata": {},
     "output_type": "execute_result"
    }
   ],
   "source": [
    "np.dtype(df1.DateTransferDoF)"
   ]
  },
  {
   "cell_type": "code",
   "execution_count": 9,
   "metadata": {
    "collapsed": false
   },
   "outputs": [
    {
     "name": "stderr",
     "output_type": "stream",
     "text": [
      "/opt/rh/anaconda/root/envs/PUI2016_Python2/lib/python2.7/site-packages/ipykernel/__main__.py:1: SettingWithCopyWarning: \n",
      "A value is trying to be set on a copy of a slice from a DataFrame.\n",
      "Try using .loc[row_indexer,col_indexer] = value instead\n",
      "\n",
      "See the caveats in the documentation: http://pandas.pydata.org/pandas-docs/stable/indexing.html#indexing-view-versus-copy\n",
      "  if __name__ == '__main__':\n"
     ]
    },
    {
     "data": {
      "text/html": [
       "<div>\n",
       "<table border=\"1\" class=\"dataframe\">\n",
       "  <thead>\n",
       "    <tr style=\"text-align: right;\">\n",
       "      <th></th>\n",
       "      <th>DateTransferDoF</th>\n",
       "      <th>SalesTax</th>\n",
       "    </tr>\n",
       "  </thead>\n",
       "  <tbody>\n",
       "    <tr>\n",
       "      <th>0</th>\n",
       "      <td>2000-04-19</td>\n",
       "      <td>18.03</td>\n",
       "    </tr>\n",
       "    <tr>\n",
       "      <th>1</th>\n",
       "      <td>2000-05-18</td>\n",
       "      <td>57.66</td>\n",
       "    </tr>\n",
       "    <tr>\n",
       "      <th>2</th>\n",
       "      <td>2000-05-18</td>\n",
       "      <td>3.73</td>\n",
       "    </tr>\n",
       "    <tr>\n",
       "      <th>3</th>\n",
       "      <td>2000-05-18</td>\n",
       "      <td>9.12</td>\n",
       "    </tr>\n",
       "    <tr>\n",
       "      <th>4</th>\n",
       "      <td>2000-05-18</td>\n",
       "      <td>11.15</td>\n",
       "    </tr>\n",
       "  </tbody>\n",
       "</table>\n",
       "</div>"
      ],
      "text/plain": [
       "  DateTransferDoF  SalesTax\n",
       "0      2000-04-19     18.03\n",
       "1      2000-05-18     57.66\n",
       "2      2000-05-18      3.73\n",
       "3      2000-05-18      9.12\n",
       "4      2000-05-18     11.15"
      ]
     },
     "execution_count": 9,
     "metadata": {},
     "output_type": "execute_result"
    }
   ],
   "source": [
    "df1[\"DateTransferDoF\"] =  pd.to_datetime(df1[\"DateTransferDoF\"])\n",
    "\n",
    "df1.head()"
   ]
  },
  {
   "cell_type": "code",
   "execution_count": 10,
   "metadata": {
    "collapsed": false
   },
   "outputs": [
    {
     "name": "stdout",
     "output_type": "stream",
     "text": [
      "Populating the interactive namespace from numpy and matplotlib\n"
     ]
    },
    {
     "name": "stderr",
     "output_type": "stream",
     "text": [
      "/opt/rh/anaconda/root/envs/PUI2016_Python2/lib/python2.7/site-packages/IPython/core/magics/pylab.py:161: UserWarning: pylab import has clobbered these variables: ['datetime']\n",
      "`%matplotlib` prevents importing * from pylab and numpy\n",
      "  \"\\n`%matplotlib` prevents importing * from pylab and numpy\"\n"
     ]
    },
    {
     "data": {
      "image/png": "[encoded data removed]",
      "text/plain": [
       "<matplotlib.figure.Figure at 0x7faa07d67ed0>"
      ]
     },
     "metadata": {},
     "output_type": "display_data"
    }
   ],
   "source": [
    "%pylab inline\n",
    "\n",
    "pl.plot('DateTransferDoF',\"SalesTax\",\"o\", data=df1, color=\"red\")\n",
    "pl.xlabel(\"Repair Date\")\n",
    "pl.ylabel(\"Taxes charged\")\n",
    "pl.title('Taxes paid by Date',weight='bold',fontsize=12)\n",
    "pl.xlim(\"01/01/2000\",\"12/31/2015\")\n",
    "pl.show()"
   ]
  },
  {
   "cell_type": "code",
   "execution_count": null,
   "metadata": {
    "collapsed": true
   },
   "outputs": [],
   "source": []
  },
  {
   "cell_type": "code",
   "execution_count": null,
   "metadata": {
    "collapsed": true
   },
   "outputs": [],
   "source": []
  },
  {
   "cell_type": "code",
   "execution_count": null,
   "metadata": {
    "collapsed": true
   },
   "outputs": [],
   "source": []
  }
 ],
 "metadata": {
  "kernelspec": {
   "display_name": "PUI2016_Python2",
   "language": "python",
   "name": "pui2016_python2"
  },
  "language_info": {
   "codemirror_mode": {
    "name": "ipython",
    "version": 2
   },
   "file_extension": ".py",
   "mimetype": "text/x-python",
   "name": "python",
   "nbconvert_exporter": "python",
   "pygments_lexer": "ipython2",
   "version": "2.7.12"
  }
 },
 "nbformat": 4,
 "nbformat_minor": 0
}
